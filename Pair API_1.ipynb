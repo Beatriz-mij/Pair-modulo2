{
 "cells": [
  {
   "cell_type": "code",
   "execution_count": 10,
   "metadata": {},
   "outputs": [],
   "source": [
    "url_re = 'https://apidatos.ree.es/es/datos/generacion/evolucion-renovable-no-renovable?start_date=2011-01-01T00:00&end_date=2011-12-31T23:59&time_trunc=month'\n"
   ]
  },
  {
   "cell_type": "code",
   "execution_count": null,
   "metadata": {},
   "outputs": [],
   "source": [
    "start_date = '2011-01-01T00:00'"
   ]
  },
  {
   "cell_type": "code",
   "execution_count": null,
   "metadata": {},
   "outputs": [],
   "source": [
    "end_date = '2023-01-01T00:00'"
   ]
  },
  {
   "cell_type": "code",
   "execution_count": 6,
   "metadata": {},
   "outputs": [],
   "source": [
    "time_trunc = 'month'"
   ]
  },
  {
   "cell_type": "code",
   "execution_count": 11,
   "metadata": {},
   "outputs": [],
   "source": [
    "# importamos las librerías que necesitamos\n",
    "\n",
    "# Tratamiento de datos\n",
    "# -----------------------------------------------------------------------\n",
    "import pandas as pd\n",
    "\n",
    "# Uso de API's\n",
    "# -----------------------------------------------------------------------\n",
    "import requests\n",
    "\n",
    "# Importar librerías para procesamiento de texto\n",
    "# -----------------------------------------------------------------------\n",
    "import re\n",
    "\n",
    "# Configuración\n",
    "# -----------------------------------------------------------------------\n",
    "pd.set_option('display.max_columns', None) # para poder visualizar todas las columnas de los DataFrames"
   ]
  },
  {
   "cell_type": "code",
   "execution_count": 12,
   "metadata": {},
   "outputs": [],
   "source": [
    "def llamar_api(url):\n",
    "    \"\"\"\n",
    "    Realiza una llamada a una API utilizando la URL proporcionada.\n",
    "\n",
    "    Parameters:\n",
    "    -----------\n",
    "    url (str): La URL de la API que se va a llamar.\n",
    "\n",
    "    Returns:\n",
    "    --------\n",
    "    dict or None: Un diccionario con los datos de respuesta de la API si la llamada fue exitosa (código de estado 200).\n",
    "                  None si la llamada falló o no se pudo autenticar correctamente.\n",
    "    \"\"\"\n",
    "    llamada = requests.get(url)  # Realiza una solicitud GET a la URL proporcionada y almacena la respuesta en 'llamada'.\n",
    "\n",
    "    print(f\"La llamada a la API nos ha dado una respuesta de tipo: {llamada.status_code}\")  # Imprime el código de estado de la respuesta.\n",
    "\n",
    "    if llamada.status_code != 200:  # Comprueba si la respuesta no fue exitosa (código de estado distinto de 200).\n",
    "        print(f\"El motivo por el que la llamada falló es {llamada.reason}\")  # Imprime la razón de la falla.\n",
    "    else:\n",
    "        return llamada.json()  # Si la llamada fue exitosa, devuelve los datos de respuesta en formato JSON.\n"
   ]
  },
  {
   "cell_type": "code",
   "execution_count": 13,
   "metadata": {},
   "outputs": [
    {
     "name": "stdout",
     "output_type": "stream",
     "text": [
      "La llamada a la API nos ha dado una respuesta de tipo: 200\n"
     ]
    },
    {
     "data": {
      "text/plain": [
       "{'data': {'type': 'Evolución de la generación renovable/no renovable',\n",
       "  'id': 'gen2',\n",
       "  'attributes': {'title': 'Evolución de la generación renovable/no renovable',\n",
       "   'last-update': '2019-06-12T15:32:24.000+02:00',\n",
       "   'description': None},\n",
       "  'meta': {'cache-control': {'cache': 'HIT',\n",
       "    'expireAt': '2025-03-21T10:28:22'}}},\n",
       " 'included': [{'type': 'Renovable',\n",
       "   'id': '10299',\n",
       "   'groupId': None,\n",
       "   'attributes': {'title': 'Renovable',\n",
       "    'description': 'Energía renovable: incluye hidráulica, hidroeólica, eólica, solar fotovoltaica, solar térmica, otras renovables y residuos renovables.',\n",
       "    'color': '#6fb114',\n",
       "    'type': 'Renovable',\n",
       "    'magnitude': None,\n",
       "    'composite': False,\n",
       "    'last-update': '2019-06-12T15:32:24.000+02:00',\n",
       "    'values': [{'value': 9918268.536,\n",
       "      'percentage': 0.38703213895553323,\n",
       "      'datetime': '2011-01-01T00:00:00.000+01:00'},\n",
       "     {'value': 7991499.8525,\n",
       "      'percentage': 0.34798636828191,\n",
       "      'datetime': '2011-02-01T00:00:00.000+01:00'},\n",
       "     {'value': 9606067.697,\n",
       "      'percentage': 0.3867498306276262,\n",
       "      'datetime': '2011-03-01T00:00:00.000+01:00'},\n",
       "     {'value': 8123455.767,\n",
       "      'percentage': 0.37816002620672234,\n",
       "      'datetime': '2011-04-01T00:00:00.000+02:00'},\n",
       "     {'value': 7251163.8615,\n",
       "      'percentage': 0.3332769121968238,\n",
       "      'datetime': '2011-05-01T00:00:00.000+02:00'},\n",
       "     {'value': 6452804.794,\n",
       "      'percentage': 0.2874658172600506,\n",
       "      'datetime': '2011-06-01T00:00:00.000+02:00'},\n",
       "     {'value': 6498576.444,\n",
       "      'percentage': 0.27241487489086536,\n",
       "      'datetime': '2011-07-01T00:00:00.000+02:00'},\n",
       "     {'value': 5727787.99,\n",
       "      'percentage': 0.24647035667516862,\n",
       "      'datetime': '2011-08-01T00:00:00.000+02:00'},\n",
       "     {'value': 4933369.656,\n",
       "      'percentage': 0.21537967515618267,\n",
       "      'datetime': '2011-09-01T00:00:00.000+02:00'},\n",
       "     {'value': 5622637.3765,\n",
       "      'percentage': 0.2553026424883666,\n",
       "      'datetime': '2011-10-01T00:00:00.000+02:00'},\n",
       "     {'value': 6825133.5855,\n",
       "      'percentage': 0.30459688161043535,\n",
       "      'datetime': '2011-11-01T00:00:00.000+01:00'},\n",
       "     {'value': 7716287.29,\n",
       "      'percentage': 0.3266248581215565,\n",
       "      'datetime': '2011-12-01T00:00:00.000+01:00'}]}},\n",
       "  {'type': 'No renovable',\n",
       "   'id': '10298',\n",
       "   'groupId': None,\n",
       "   'attributes': {'title': 'No renovable',\n",
       "    'description': None,\n",
       "    'color': '#666666',\n",
       "    'type': 'No renovable',\n",
       "    'magnitude': None,\n",
       "    'composite': False,\n",
       "    'last-update': '2018-12-21T10:43:20.000+01:00',\n",
       "    'values': [{'value': 15708204.146,\n",
       "      'percentage': 0.6129678610444668,\n",
       "      'datetime': '2011-01-01T00:00:00.000+01:00'},\n",
       "     {'value': 14973479.7585,\n",
       "      'percentage': 0.65201363171809,\n",
       "      'datetime': '2011-02-01T00:00:00.000+01:00'},\n",
       "     {'value': 15231868.706,\n",
       "      'percentage': 0.6132501693723739,\n",
       "      'datetime': '2011-03-01T00:00:00.000+01:00'},\n",
       "     {'value': 13358073.755,\n",
       "      'percentage': 0.6218399737932777,\n",
       "      'datetime': '2011-04-01T00:00:00.000+02:00'},\n",
       "     {'value': 14506010.4165,\n",
       "      'percentage': 0.6667230878031761,\n",
       "      'datetime': '2011-05-01T00:00:00.000+02:00'},\n",
       "     {'value': 15994402.514,\n",
       "      'percentage': 0.7125341827399495,\n",
       "      'datetime': '2011-06-01T00:00:00.000+02:00'},\n",
       "     {'value': 17356862.605,\n",
       "      'percentage': 0.7275851251091345,\n",
       "      'datetime': '2011-07-01T00:00:00.000+02:00'},\n",
       "     {'value': 17511469.125,\n",
       "      'percentage': 0.7535296433248313,\n",
       "      'datetime': '2011-08-01T00:00:00.000+02:00'},\n",
       "     {'value': 17972086.267,\n",
       "      'percentage': 0.7846203248438174,\n",
       "      'datetime': '2011-09-01T00:00:00.000+02:00'},\n",
       "     {'value': 16400782.8345,\n",
       "      'percentage': 0.7446973575116335,\n",
       "      'datetime': '2011-10-01T00:00:00.000+02:00'},\n",
       "     {'value': 15581969.0395,\n",
       "      'percentage': 0.6954031183895647,\n",
       "      'datetime': '2011-11-01T00:00:00.000+01:00'},\n",
       "     {'value': 15908023.898,\n",
       "      'percentage': 0.6733751418784435,\n",
       "      'datetime': '2011-12-01T00:00:00.000+01:00'}]}}]}"
      ]
     },
     "execution_count": 13,
     "metadata": {},
     "output_type": "execute_result"
    }
   ],
   "source": [
    "llamar_api(url_re)"
   ]
  },
  {
   "cell_type": "code",
   "execution_count": 14,
   "metadata": {},
   "outputs": [
    {
     "name": "stdout",
     "output_type": "stream",
     "text": [
      "La llamada a la API nos ha dado una respuesta de tipo: 200\n"
     ]
    }
   ],
   "source": [
    "respuesta_red_electrica = llamar_api(url_re)"
   ]
  },
  {
   "cell_type": "code",
   "execution_count": 15,
   "metadata": {},
   "outputs": [
    {
     "data": {
      "text/plain": [
       "dict_keys(['data', 'included'])"
      ]
     },
     "execution_count": 15,
     "metadata": {},
     "output_type": "execute_result"
    }
   ],
   "source": [
    "respuesta_red_electrica.keys()"
   ]
  },
  {
   "cell_type": "code",
   "execution_count": 21,
   "metadata": {},
   "outputs": [
    {
     "ename": "AttributeError",
     "evalue": "'str' object has no attribute 'keys'",
     "output_type": "error",
     "traceback": [
      "\u001b[1;31m---------------------------------------------------------------------------\u001b[0m",
      "\u001b[1;31mAttributeError\u001b[0m                            Traceback (most recent call last)",
      "Cell \u001b[1;32mIn[21], line 1\u001b[0m\n\u001b[1;32m----> 1\u001b[0m \u001b[38;5;124;43m\"\u001b[39;49m\u001b[38;5;124;43mdata\u001b[39;49m\u001b[38;5;124;43m\"\u001b[39;49m\u001b[38;5;241;43m.\u001b[39;49m\u001b[43mkeys\u001b[49m(respuesta_red_electrica)\n",
      "\u001b[1;31mAttributeError\u001b[0m: 'str' object has no attribute 'keys'"
     ]
    }
   ],
   "source": [
    "\"data\".keys(respuesta_red_electrica)"
   ]
  }
 ],
 "metadata": {
  "kernelspec": {
   "display_name": "Python 3",
   "language": "python",
   "name": "python3"
  },
  "language_info": {
   "codemirror_mode": {
    "name": "ipython",
    "version": 3
   },
   "file_extension": ".py",
   "mimetype": "text/x-python",
   "name": "python",
   "nbconvert_exporter": "python",
   "pygments_lexer": "ipython3",
   "version": "3.11.9"
  }
 },
 "nbformat": 4,
 "nbformat_minor": 2
}
